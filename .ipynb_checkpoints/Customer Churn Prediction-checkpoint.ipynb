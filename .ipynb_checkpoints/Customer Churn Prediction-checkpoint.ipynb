{
 "cells": [
  {
   "cell_type": "markdown",
   "id": "bde82768-baa9-45d5-8865-1c878680178e",
   "metadata": {},
   "source": [
    "### Customer Churn Prediction Project\n",
    "\n",
    "#### **Project Overview**\n",
    "Customer churn refers to the phenomenon where customers stop doing business with a company. This project aims to predict customer churn for a telecom company using the Telco Customer Churn dataset. By identifying key factors contributing to churn, the company can implement strategies to retain customers. The project uses Logistic Regression for classification and provides insights into important features influencing churn.\n",
    "\n",
    "---\n",
    "\n",
    "#### **Importing Libraries**"
   ]
  },
  {
   "cell_type": "code",
   "execution_count": 5,
   "id": "9fd28f0b-fbff-4b20-9398-a84a012446c2",
   "metadata": {},
   "outputs": [],
   "source": [
    "# Importing necessary libraries\n",
    "import pandas as pd\n",
    "import numpy as np\n",
    "import matplotlib.pyplot as plt\n",
    "import seaborn as sns\n",
    "from sklearn.model_selection import train_test_split\n",
    "from sklearn.linear_model import LogisticRegression\n",
    "from sklearn.metrics import accuracy_score, classification_report, confusion_matrix"
   ]
  },
  {
   "cell_type": "markdown",
   "id": "43617755-2e38-486d-b8bd-35897e029de8",
   "metadata": {},
   "source": [
    "#### **Loading the Dataset**"
   ]
  },
  {
   "cell_type": "code",
   "execution_count": 8,
   "id": "8a7fb54c-2fdb-4eec-94aa-e6579b67da26",
   "metadata": {},
   "outputs": [
    {
     "name": "stdout",
     "output_type": "stream",
     "text": [
      "   customerID  gender  SeniorCitizen Partner Dependents  tenure PhoneService  \\\n",
      "0  7590-VHVEG  Female              0     Yes         No       1           No   \n",
      "1  5575-GNVDE    Male              0      No         No      34          Yes   \n",
      "2  3668-QPYBK    Male              0      No         No       2          Yes   \n",
      "3  7795-CFOCW    Male              0      No         No      45           No   \n",
      "4  9237-HQITU  Female              0      No         No       2          Yes   \n",
      "\n",
      "      MultipleLines InternetService OnlineSecurity  ... DeviceProtection  \\\n",
      "0  No phone service             DSL             No  ...               No   \n",
      "1                No             DSL            Yes  ...              Yes   \n",
      "2                No             DSL            Yes  ...               No   \n",
      "3  No phone service             DSL            Yes  ...              Yes   \n",
      "4                No     Fiber optic             No  ...               No   \n",
      "\n",
      "  TechSupport StreamingTV StreamingMovies        Contract PaperlessBilling  \\\n",
      "0          No          No              No  Month-to-month              Yes   \n",
      "1          No          No              No        One year               No   \n",
      "2          No          No              No  Month-to-month              Yes   \n",
      "3         Yes          No              No        One year               No   \n",
      "4          No          No              No  Month-to-month              Yes   \n",
      "\n",
      "               PaymentMethod MonthlyCharges  TotalCharges Churn  \n",
      "0           Electronic check          29.85         29.85    No  \n",
      "1               Mailed check          56.95        1889.5    No  \n",
      "2               Mailed check          53.85        108.15   Yes  \n",
      "3  Bank transfer (automatic)          42.30       1840.75    No  \n",
      "4           Electronic check          70.70        151.65   Yes  \n",
      "\n",
      "[5 rows x 21 columns]\n",
      "<class 'pandas.core.frame.DataFrame'>\n",
      "RangeIndex: 7043 entries, 0 to 7042\n",
      "Data columns (total 21 columns):\n",
      " #   Column            Non-Null Count  Dtype  \n",
      "---  ------            --------------  -----  \n",
      " 0   customerID        7043 non-null   object \n",
      " 1   gender            7043 non-null   object \n",
      " 2   SeniorCitizen     7043 non-null   int64  \n",
      " 3   Partner           7043 non-null   object \n",
      " 4   Dependents        7043 non-null   object \n",
      " 5   tenure            7043 non-null   int64  \n",
      " 6   PhoneService      7043 non-null   object \n",
      " 7   MultipleLines     7043 non-null   object \n",
      " 8   InternetService   7043 non-null   object \n",
      " 9   OnlineSecurity    7043 non-null   object \n",
      " 10  OnlineBackup      7043 non-null   object \n",
      " 11  DeviceProtection  7043 non-null   object \n",
      " 12  TechSupport       7043 non-null   object \n",
      " 13  StreamingTV       7043 non-null   object \n",
      " 14  StreamingMovies   7043 non-null   object \n",
      " 15  Contract          7043 non-null   object \n",
      " 16  PaperlessBilling  7043 non-null   object \n",
      " 17  PaymentMethod     7043 non-null   object \n",
      " 18  MonthlyCharges    7043 non-null   float64\n",
      " 19  TotalCharges      7043 non-null   object \n",
      " 20  Churn             7043 non-null   object \n",
      "dtypes: float64(1), int64(2), object(18)\n",
      "memory usage: 1.1+ MB\n",
      "None\n",
      "       SeniorCitizen       tenure  MonthlyCharges\n",
      "count    7043.000000  7043.000000     7043.000000\n",
      "mean        0.162147    32.371149       64.761692\n",
      "std         0.368612    24.559481       30.090047\n",
      "min         0.000000     0.000000       18.250000\n",
      "25%         0.000000     9.000000       35.500000\n",
      "50%         0.000000    29.000000       70.350000\n",
      "75%         0.000000    55.000000       89.850000\n",
      "max         1.000000    72.000000      118.750000\n"
     ]
    }
   ],
   "source": [
    "# Load the dataset\n",
    "df = pd.read_csv('Telco-Customer-Churn.csv')\n",
    "\n",
    "# Display the first few rows of the dataset\n",
    "print(df.head())\n",
    "\n",
    "# Check data info and statistics\n",
    "print(df.info())\n",
    "print(df.describe())"
   ]
  },
  {
   "cell_type": "markdown",
   "id": "4c370bcd-dd7f-43f4-9adc-7ba1fefc22e7",
   "metadata": {},
   "source": [
    "**Explanation:**\n",
    "- The dataset contains customer information, including demographics, account details, and service usage.\n",
    "- The target variable is `Churn`, indicating whether a customer has left the company.\n",
    "\n",
    "---"
   ]
  },
  {
   "cell_type": "markdown",
   "id": "91c674ee-9f74-4590-90a7-ba2312386b5c",
   "metadata": {},
   "source": [
    "#### **Data Cleaning and Preprocessing**"
   ]
  },
  {
   "cell_type": "code",
   "execution_count": 13,
   "id": "6ffcf924-d7a2-4474-8507-7b8740476f0f",
   "metadata": {},
   "outputs": [
    {
     "name": "stdout",
     "output_type": "stream",
     "text": [
      "SeniorCitizen                            0\n",
      "tenure                                   0\n",
      "MonthlyCharges                           0\n",
      "TotalCharges                             0\n",
      "gender_Male                              0\n",
      "Partner_Yes                              0\n",
      "Dependents_Yes                           0\n",
      "PhoneService_Yes                         0\n",
      "MultipleLines_No phone service           0\n",
      "MultipleLines_Yes                        0\n",
      "InternetService_Fiber optic              0\n",
      "InternetService_No                       0\n",
      "OnlineSecurity_No internet service       0\n",
      "OnlineSecurity_Yes                       0\n",
      "OnlineBackup_No internet service         0\n",
      "OnlineBackup_Yes                         0\n",
      "DeviceProtection_No internet service     0\n",
      "DeviceProtection_Yes                     0\n",
      "TechSupport_No internet service          0\n",
      "TechSupport_Yes                          0\n",
      "StreamingTV_No internet service          0\n",
      "StreamingTV_Yes                          0\n",
      "StreamingMovies_No internet service      0\n",
      "StreamingMovies_Yes                      0\n",
      "Contract_One year                        0\n",
      "Contract_Two year                        0\n",
      "PaperlessBilling_Yes                     0\n",
      "PaymentMethod_Credit card (automatic)    0\n",
      "PaymentMethod_Electronic check           0\n",
      "PaymentMethod_Mailed check               0\n",
      "Churn_Yes                                0\n",
      "dtype: int64\n"
     ]
    }
   ],
   "source": [
    "# Drop irrelevant column\n",
    "if 'customerID' in df.columns:\n",
    "    df = df.drop(columns=['customerID'])\n",
    "\n",
    "# Handle missing values\n",
    "# Convert 'TotalCharges' to numeric and handle errors\n",
    "df['TotalCharges'] = pd.to_numeric(df['TotalCharges'], errors='coerce')\n",
    "df['TotalCharges'] = df['TotalCharges'].fillna(df['TotalCharges'].mean())\n",
    "\n",
    "# Convert categorical variables to dummy variables\n",
    "df = pd.get_dummies(df, drop_first=True)\n",
    "\n",
    "# Check for null values after preprocessing\n",
    "print(df.isnull().sum())"
   ]
  },
  {
   "cell_type": "markdown",
   "id": "24cf17af-8e04-4a8b-bc07-afd2dcc8d974",
   "metadata": {},
   "source": [
    "**Explanation:**\n",
    "- `customerID` is irrelevant for prediction and is dropped.\n",
    "- `TotalCharges` is converted to numeric, and missing values are replaced with the mean.\n",
    "- Categorical variables are transformed into dummy variables for model compatibility.\n",
    "\n",
    "---"
   ]
  },
  {
   "cell_type": "markdown",
   "id": "cccc23e5-dd74-4ead-9ebf-97f334b4e71a",
   "metadata": {},
   "source": [
    "#### **Defining Features and Target**"
   ]
  },
  {
   "cell_type": "code",
   "execution_count": 14,
   "id": "fd15763c-2f86-426d-9b98-3bb423a51b3a",
   "metadata": {},
   "outputs": [],
   "source": [
    "# Define features (X) and target (y)\n",
    "X = df.drop('Churn_Yes', axis=1)  # Features\n",
    "y = df['Churn_Yes']              # Target (1 = churn, 0 = no churn)\n",
    "\n",
    "# Split data into training and testing sets\n",
    "X_train, X_test, y_train, y_test = train_test_split(X, y, test_size=0.2, random_state=42)"
   ]
  },
  {
   "cell_type": "markdown",
   "id": "c8112d52-fd36-4692-9752-aad3693ac868",
   "metadata": {},
   "source": [
    "**Explanation:**\n",
    "- Features (`X`) include all variables except the target.\n",
    "- The target (`y`) is the binary `Churn_Yes` column.\n",
    "- Data is split into training (80%) and testing (20%) sets for model evaluation.\n",
    "\n",
    "---"
   ]
  },
  {
   "cell_type": "markdown",
   "id": "507bef9e-dbc8-4aa3-857c-f7281451121f",
   "metadata": {},
   "source": [
    "#### **Training the Logistic Regression Model**"
   ]
  },
  {
   "cell_type": "code",
   "execution_count": 15,
   "id": "a823f293-4676-4514-915f-73389a24469b",
   "metadata": {},
   "outputs": [],
   "source": [
    "# Train logistic regression model\n",
    "model = LogisticRegression(max_iter=1000)\n",
    "model.fit(X_train, y_train)\n",
    "\n",
    "# Predict on test data\n",
    "y_pred = model.predict(X_test)"
   ]
  },
  {
   "cell_type": "markdown",
   "id": "0f903d65-6075-4cbf-9b67-e19118415d7d",
   "metadata": {},
   "source": [
    "**Explanation:**\n",
    "- Logistic Regression is chosen for its simplicity and interpretability.\n",
    "- The model is trained on the training data and tested on unseen data.\n",
    "\n",
    "---"
   ]
  },
  {
   "cell_type": "markdown",
   "id": "1007c162-4a2f-4517-9b8e-312a3b42e996",
   "metadata": {},
   "source": [
    "#### **Evaluating the Model**"
   ]
  },
  {
   "cell_type": "code",
   "execution_count": 16,
   "id": "144a845f-e0ec-4db1-a8e2-9854d56fbe61",
   "metadata": {},
   "outputs": [
    {
     "name": "stdout",
     "output_type": "stream",
     "text": [
      "Accuracy: 0.8204400283889283\n",
      "Classification Report:\n",
      "               precision    recall  f1-score   support\n",
      "\n",
      "       False       0.86      0.90      0.88      1036\n",
      "        True       0.68      0.60      0.64       373\n",
      "\n",
      "    accuracy                           0.82      1409\n",
      "   macro avg       0.77      0.75      0.76      1409\n",
      "weighted avg       0.81      0.82      0.82      1409\n",
      "\n"
     ]
    },
    {
     "data": {
      "image/png": "[encoded data removed]",
      "text/plain": [
       "<Figure size 640x480 with 2 Axes>"
      ]
     },
     "metadata": {},
     "output_type": "display_data"
    }
   ],
   "source": [
    "# Evaluate model performance\n",
    "print(\"Accuracy:\", accuracy_score(y_test, y_pred))\n",
    "print(\"Classification Report:\\n\", classification_report(y_test, y_pred))\n",
    "\n",
    "# Confusion matrix\n",
    "conf_matrix = confusion_matrix(y_test, y_pred)\n",
    "sns.heatmap(conf_matrix, annot=True, fmt='d', cmap='Blues')\n",
    "plt.xlabel('Predicted')\n",
    "plt.ylabel('Actual')\n",
    "plt.title('Confusion Matrix')\n",
    "plt.show()"
   ]
  },
  {
   "cell_type": "markdown",
   "id": "0742fdc5-b0c3-4fad-a8ea-fd2e0377e8a4",
   "metadata": {},
   "source": [
    "**Explanation:**\n",
    "- Accuracy measures the proportion of correct predictions.\n",
    "- The classification report provides precision, recall, and F1-score.\n",
    "- The confusion matrix visualizes true positives, true negatives, false positives, and false negatives.\n",
    "\n",
    "---"
   ]
  },
  {
   "cell_type": "markdown",
   "id": "da3102fb-63c8-41da-a6f6-aa2d00b4fdab",
   "metadata": {},
   "source": [
    "#### **Analyzing Feature Importance**"
   ]
  },
  {
   "cell_type": "code",
   "execution_count": 17,
   "id": "025af3fa-9e62-4709-ae10-224811710f98",
   "metadata": {},
   "outputs": [
    {
     "name": "stdout",
     "output_type": "stream",
     "text": [
      "                           Feature  Importance\n",
      "10     InternetService_Fiber optic    0.646262\n",
      "26            PaperlessBilling_Yes    0.337383\n",
      "28  PaymentMethod_Electronic check    0.328255\n",
      "8   MultipleLines_No phone service    0.261698\n",
      "23             StreamingMovies_Yes    0.229929\n",
      "9                MultipleLines_Yes    0.220694\n",
      "0                    SeniorCitizen    0.162673\n",
      "21                 StreamingTV_Yes    0.128681\n",
      "5                      Partner_Yes    0.055422\n",
      "2                   MonthlyCharges    0.003048\n"
     ]
    },
    {
     "data": {
      "image/png": "[encoded data removed]",
      "text/plain": [
       "<Figure size 1000x600 with 1 Axes>"
      ]
     },
     "metadata": {},
     "output_type": "display_data"
    }
   ],
   "source": [
    "# Extract feature importance\n",
    "feature_importance = pd.DataFrame({\n",
    "    'Feature': X.columns,\n",
    "    'Importance': model.coef_[0]\n",
    "})\n",
    "\n",
    "# Sort by importance\n",
    "feature_importance = feature_importance.sort_values(by='Importance', ascending=False)\n",
    "\n",
    "# Display the top 10 most important features\n",
    "print(feature_importance.head(10))\n",
    "\n",
    "# Plot feature importance\n",
    "plt.figure(figsize=(10, 6))\n",
    "sns.barplot(x='Importance', y='Feature', data=feature_importance.head(10))\n",
    "plt.title('Top 10 Features Contributing to Churn')\n",
    "plt.show()"
   ]
  },
  {
   "cell_type": "markdown",
   "id": "3a042404-cfe6-4177-ba47-c75b5412b663",
   "metadata": {},
   "source": [
    "**Explanation:**\n",
    "- Feature importance shows which variables have the greatest impact on churn.\n",
    "- The top 10 features are plotted for better visualization.\n",
    "\n",
    "---"
   ]
  },
  {
   "cell_type": "markdown",
   "id": "8d53ff7d-bc35-4651-a1b0-0abd7415bb2e",
   "metadata": {},
   "source": [
    "### **Conclusion and Insights**\n",
    "\n",
    "#### **Conclusion**:\n",
    "```markdown\n",
    "- The model achieved an accuracy of ~XX%.\n",
    "- The most important features affecting churn include:\n",
    "  - Contract type (e.g., month-to-month contracts have higher churn rates).\n",
    "  - Tenure (shorter tenure customers are more likely to churn).\n",
    "  - Monthly charges.\n",
    "```\n",
    "#### **Insights**:\n",
    "```markdown\n",
    "- Focus on offering incentives to customers with shorter tenures.\n",
    "- Promote annual contracts to reduce churn rates.\n",
    "- Provide discounts or loyalty rewards to customers with high monthly charges.\n",
    "```\n"
   ]
  },
  {
   "cell_type": "markdown",
   "id": "b4131e99-2acf-42d7-b2b3-e12d668cee12",
   "metadata": {},
   "source": [
    "#### **Next Steps**\n",
    "```markdown\n",
    "1. Experiment with more advanced models (e.g., Random Forest, Gradient Boosting).\n",
    "2. Hyperparameter tuning using GridSearchCV for Logistic Regression.\n",
    "3. Build a dashboard to visualize churn trends.\n",
    "```"
   ]
  },
  {
   "cell_type": "markdown",
   "id": "7689197e-167c-423f-8ed5-b0056bcd3558",
   "metadata": {},
   "source": [
    "**Explanation:**\n",
    "- Additional modeling techniques and hyperparameter tuning can improve performance.\n",
    "- Visualization dashboards provide actionable insights for decision-makers."
   ]
  },
  {
   "cell_type": "code",
   "execution_count": null,
   "id": "49622bbc-efcd-4cc8-a251-1def8b1e2d86",
   "metadata": {},
   "outputs": [],
   "source": []
  }
 ],
 "metadata": {
  "kernelspec": {
   "display_name": "Python 3 (ipykernel)",
   "language": "python",
   "name": "python3"
  },
  "language_info": {
   "codemirror_mode": {
    "name": "ipython",
    "version": 3
   },
   "file_extension": ".py",
   "mimetype": "text/x-python",
   "name": "python",
   "nbconvert_exporter": "python",
   "pygments_lexer": "ipython3",
   "version": "3.12.7"
  }
 },
 "nbformat": 4,
 "nbformat_minor": 5
}
